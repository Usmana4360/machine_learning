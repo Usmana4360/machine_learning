{
 "cells": [
  {
   "cell_type": "markdown",
   "metadata": {},
   "source": [
    "# Muhammad Usman\n",
    "\n",
    "### usmanashraf4360@gmail.com"
   ]
  },
  {
   "cell_type": "markdown",
   "metadata": {},
   "source": [
    "# Selection of Best Regression Model"
   ]
  },
  {
   "cell_type": "code",
   "execution_count": 1,
   "metadata": {},
   "outputs": [],
   "source": [
    "# Import Liberaries\n",
    "import pandas as pd\n",
    "import numpy as np\n",
    "import seaborn as sns\n",
    "import matplotlib.pyplot as plt\n",
    "\n",
    "# Import regression  models\n",
    "from sklearn.linear_model import LinearRegression\n",
    "from sklearn.ensemble import RandomForestRegressor\n",
    "from sklearn.ensemble import GradientBoostingRegressor\n",
    "from sklearn.svm import SVR\n",
    "from sklearn.tree import DecisionTreeRegressor\n",
    "from sklearn.neighbors import KNeighborsRegressor\n",
    "from xgboost import XGBRegressor\n",
    "\n",
    "# train test split\n",
    "from sklearn.model_selection import train_test_split\n",
    "from sklearn.metrics import mean_absolute_error,mean_squared_error,r2_score\n",
    "from sklearn.model_selection import GridSearchCV\n",
    "from sklearn.preprocessing import StandardScaler,MinMaxScaler\n",
    "from sklearn.pipeline import Pipeline\n",
    "from sklearn.preprocessing import LabelEncoder\n"
   ]
  },
  {
   "cell_type": "code",
   "execution_count": 4,
   "metadata": {},
   "outputs": [
    {
     "data": {
      "text/html": [
       "<div>\n",
       "<style scoped>\n",
       "    .dataframe tbody tr th:only-of-type {\n",
       "        vertical-align: middle;\n",
       "    }\n",
       "\n",
       "    .dataframe tbody tr th {\n",
       "        vertical-align: top;\n",
       "    }\n",
       "\n",
       "    .dataframe thead th {\n",
       "        text-align: right;\n",
       "    }\n",
       "</style>\n",
       "<table border=\"1\" class=\"dataframe\">\n",
       "  <thead>\n",
       "    <tr style=\"text-align: right;\">\n",
       "      <th></th>\n",
       "      <th>total_bill</th>\n",
       "      <th>tip</th>\n",
       "      <th>sex</th>\n",
       "      <th>smoker</th>\n",
       "      <th>day</th>\n",
       "      <th>time</th>\n",
       "      <th>size</th>\n",
       "    </tr>\n",
       "  </thead>\n",
       "  <tbody>\n",
       "    <tr>\n",
       "      <th>0</th>\n",
       "      <td>16.99</td>\n",
       "      <td>1.01</td>\n",
       "      <td>Female</td>\n",
       "      <td>No</td>\n",
       "      <td>Sun</td>\n",
       "      <td>Dinner</td>\n",
       "      <td>2</td>\n",
       "    </tr>\n",
       "    <tr>\n",
       "      <th>1</th>\n",
       "      <td>10.34</td>\n",
       "      <td>1.66</td>\n",
       "      <td>Male</td>\n",
       "      <td>No</td>\n",
       "      <td>Sun</td>\n",
       "      <td>Dinner</td>\n",
       "      <td>3</td>\n",
       "    </tr>\n",
       "    <tr>\n",
       "      <th>2</th>\n",
       "      <td>21.01</td>\n",
       "      <td>3.50</td>\n",
       "      <td>Male</td>\n",
       "      <td>No</td>\n",
       "      <td>Sun</td>\n",
       "      <td>Dinner</td>\n",
       "      <td>3</td>\n",
       "    </tr>\n",
       "    <tr>\n",
       "      <th>3</th>\n",
       "      <td>23.68</td>\n",
       "      <td>3.31</td>\n",
       "      <td>Male</td>\n",
       "      <td>No</td>\n",
       "      <td>Sun</td>\n",
       "      <td>Dinner</td>\n",
       "      <td>2</td>\n",
       "    </tr>\n",
       "    <tr>\n",
       "      <th>4</th>\n",
       "      <td>24.59</td>\n",
       "      <td>3.61</td>\n",
       "      <td>Female</td>\n",
       "      <td>No</td>\n",
       "      <td>Sun</td>\n",
       "      <td>Dinner</td>\n",
       "      <td>4</td>\n",
       "    </tr>\n",
       "  </tbody>\n",
       "</table>\n",
       "</div>"
      ],
      "text/plain": [
       "   total_bill   tip     sex smoker  day    time  size\n",
       "0       16.99  1.01  Female     No  Sun  Dinner     2\n",
       "1       10.34  1.66    Male     No  Sun  Dinner     3\n",
       "2       21.01  3.50    Male     No  Sun  Dinner     3\n",
       "3       23.68  3.31    Male     No  Sun  Dinner     2\n",
       "4       24.59  3.61  Female     No  Sun  Dinner     4"
      ]
     },
     "execution_count": 4,
     "metadata": {},
     "output_type": "execute_result"
    }
   ],
   "source": [
    "#Load dataset\n",
    "df=sns.load_dataset('tips')\n",
    "df.head()"
   ]
  },
  {
   "cell_type": "code",
   "execution_count": 7,
   "metadata": {},
   "outputs": [],
   "source": [
    "#Split data into x and Y\n",
    "x = df.drop('tip', axis=1)\n",
    "y = df['tip']\n",
    "\n",
    "# label encode categorical variables\n",
    "le = LabelEncoder()\n",
    "x['sex'] = le.fit_transform(x['sex'])\n",
    "x['smoker'] = le.fit_transform(x[\n",
    "    'smoker'])\n",
    "x['day'] = le.fit_transform(x['day'])\n",
    "x['time'] = le.fit_transform(x['time'])"
   ]
  },
  {
   "cell_type": "code",
   "execution_count": 8,
   "metadata": {},
   "outputs": [
    {
     "name": "stdout",
     "output_type": "stream",
     "text": [
      "Mean Absolute error for SVR is  0.57\n",
      "Mean Absolute error for LinearRegression is  0.67\n",
      "Mean Absolute error for XGBRegressor is  0.67\n",
      "Mean Absolute error for KNeighborsRegressor is  0.73\n",
      "Mean Absolute error for GradientBoostingRegressor is  0.73\n",
      "Mean Absolute error for RandomForestRegressor is  0.77\n",
      "Mean Absolute error for DecisionTreeRegressor is  0.78\n"
     ]
    }
   ],
   "source": [
    "\n",
    "# Split data into training and testing, 80% training data \n",
    "x_train,x_test,y_train,y_test=train_test_split(x,y,test_size=0.2,random_state=42)\n",
    "\n",
    "models={'LinearRegression':LinearRegression(),\n",
    "        'SVR':SVR(),\n",
    "        'GradientBoostingRegressor':GradientBoostingRegressor(),\n",
    "        'RandomForestRegressor':RandomForestRegressor(),\n",
    "        'DecisionTreeRegressor':DecisionTreeRegressor(),\n",
    "        'XGBRegressor':XGBRegressor(),\n",
    "        'KNeighborsRegressor':KNeighborsRegressor()}\n",
    "\n",
    "# Train the model and predict values by providing testing data \n",
    "model_scores=[]\n",
    "for name,model in models.items():\n",
    "    model.fit(x_train,y_train)\n",
    "    y_pred=model.predict(x_test)\n",
    "\n",
    "    # Calculate mean absolute Error\n",
    "    metric=mean_absolute_error(y_test,y_pred)\n",
    "    model_scores.append((name,metric))\n",
    "\n",
    "sorted_models=sorted(model_scores,key=lambda x:x[1],reverse=False)\n",
    "for model in sorted_models:\n",
    "    print('Mean Absolute error for', f\"{model[0]} is {model[1]: .2f}\") \n"
   ]
  },
  {
   "cell_type": "code",
   "execution_count": 54,
   "metadata": {},
   "outputs": [
    {
     "name": "stdout",
     "output_type": "stream",
     "text": [
      "Mean Squared error for SVR is  0.54\n",
      "Mean Squared error for LinearRegression is  0.69\n",
      "Mean Squared error for XGBRegressor is  0.74\n",
      "Mean Squared error for GradientBoostingRegressor is  0.80\n",
      "Mean Squared error for KNeighborsRegressor is  0.84\n",
      "Mean Squared error for RandomForestRegressor is  0.97\n",
      "Mean Squared error for DecisionTreeRegressor is  1.45\n"
     ]
    }
   ],
   "source": [
    "# Split data into training and testing, 80% training data \n",
    "x_train,x_test,y_train,y_test=train_test_split(x,y,test_size=0.2,random_state=42)\n",
    "\n",
    "models={'LinearRegression':LinearRegression(),\n",
    "        'SVR':SVR(),\n",
    "        'GradientBoostingRegressor':GradientBoostingRegressor(),\n",
    "        'RandomForestRegressor':RandomForestRegressor(),\n",
    "        'DecisionTreeRegressor':DecisionTreeRegressor(),\n",
    "        'XGBRegressor':XGBRegressor(),\n",
    "        'KNeighborsRegressor':KNeighborsRegressor()}\n",
    "\n",
    "# Train the model and predict values by providing testing data \n",
    "model_scores=[]\n",
    "for name,model in models.items():\n",
    "    model.fit(x_train,y_train)\n",
    "    y_pred=model.predict(x_test)\n",
    "\n",
    "    # Calculate mean squared Error\n",
    "    metric=mean_squared_error(y_test,y_pred)\n",
    "    model_scores.append((name,metric))\n",
    "\n",
    "sorted_models=sorted(model_scores,key=lambda x:x[1],reverse=False)\n",
    "for model in sorted_models:\n",
    "    print('Mean Squared error for', f\"{model[0]} is {model[1]: .2f}\")"
   ]
  },
  {
   "cell_type": "code",
   "execution_count": 10,
   "metadata": {},
   "outputs": [
    {
     "name": "stdout",
     "output_type": "stream",
     "text": [
      "R2 Score for DecisionTreeRegressor is -0.02\n",
      "R2 Score for RandomForestRegressor is  0.29\n",
      "R2 Score for KNeighborsRegressor is  0.33\n",
      "R2 Score for GradientBoostingRegressor is  0.36\n",
      "R2 Score for XGBRegressor is  0.41\n",
      "R2 Score for LinearRegression is  0.44\n",
      "R2 Score for SVR is  0.57\n"
     ]
    }
   ],
   "source": [
    "# Split data into training and testing, 80% training data \n",
    "x_train,x_test,y_train,y_test=train_test_split(x,y,test_size=0.2,random_state=42)\n",
    "\n",
    "models={'LinearRegression':LinearRegression(),\n",
    "        'SVR':SVR(),\n",
    "        'GradientBoostingRegressor':GradientBoostingRegressor(),\n",
    "        'RandomForestRegressor':RandomForestRegressor(),\n",
    "        'DecisionTreeRegressor':DecisionTreeRegressor(),\n",
    "        'XGBRegressor':XGBRegressor(),\n",
    "        'KNeighborsRegressor':KNeighborsRegressor()}\n",
    "\n",
    "# Train the model and predict values by providing testing data \n",
    "model_scores=[]\n",
    "for name,model in models.items():\n",
    "    model.fit(x_train,y_train)\n",
    "    y_pred=model.predict(x_test)\n",
    "\n",
    "    # Calculate mean squared Error\n",
    "    metric=r2_score(y_test,y_pred)\n",
    "    model_scores.append((name,metric))\n",
    "\n",
    "sorted_models=sorted(model_scores,key=lambda x:x[1],reverse=False)\n",
    "for model in sorted_models:\n",
    "    print('R2 Score for', f\"{model[0]} is {model[1]: .2f}\")"
   ]
  },
  {
   "cell_type": "markdown",
   "metadata": {},
   "source": [
    "# Hyperparameter Tuning"
   ]
  },
  {
   "cell_type": "code",
   "execution_count": 19,
   "metadata": {},
   "outputs": [
    {
     "name": "stdout",
     "output_type": "stream",
     "text": [
      "0.6948129686287711\n",
      "0.4441368826121931\n",
      "0.6703807496461157\n",
      "\n",
      "\n",
      "1.460718141299992\n",
      "-0.1686013018011976\n",
      "0.8935334948775431\n",
      "\n",
      "\n",
      "0.8106801524004932\n",
      "0.35144101065487676\n",
      "0.7657809818712309\n",
      "\n",
      "\n",
      "0.9750007406122461\n",
      "0.21998152653695058\n",
      "0.7849571428571431\n",
      "\n",
      "\n",
      "0.8774153020453994\n",
      "0.2980516670532909\n",
      "0.7189481629481629\n",
      "\n",
      "\n",
      "0.6624107100882575\n",
      "0.4700592836840687\n",
      "0.6549163442728472\n",
      "\n",
      "\n",
      "0.6640950568462677\n",
      "0.4687117753876745\n",
      "0.6203721488595437\n",
      "\n",
      "\n"
     ]
    }
   ],
   "source": [
    "# Split data into training and testing, 80% training data \n",
    "x_train,x_test,y_train,y_test=train_test_split(x,y,test_size=0.2,random_state=42)\n",
    "\n",
    "# Create a dictionary to train and evaluate the model by using hyperparameters.\n",
    "models={'LinearRegression':(LinearRegression(),{}),\n",
    "        'SVR':(SVR(),{'kernel':['rbf','poly','sigmoid']}),\n",
    "        'GradientBoostingRegressor':(GradientBoostingRegressor(),{'n_estimators':[10,100]}),\n",
    "        'RandomForestRegressor':(RandomForestRegressor(),{'n_estimators':[10,100]}),\n",
    "        'DecisionTreeRegressor':(DecisionTreeRegressor(),{'max_depth':[None,5,10]}),\n",
    "        'XGBRegressor':(XGBRegressor(),{'n_estimators':[10,100]}),\n",
    "        'KNeighborsRegressor':(KNeighborsRegressor(),{'n_neighbors':np.arange(3,100,2)})}\n",
    "\n",
    "# Train the model and predict values by providing testing data \n",
    "model_scores=[]\n",
    "for name,(model,params) in models.items():\n",
    "    # Create pipline\n",
    "    Pipeline=GridSearchCV(model,params,cv=5)\n",
    "    Pipeline.fit(x_train,y_train)\n",
    "    y_pred=Pipeline.predict(x_test)\n",
    "\n",
    "    # Calculate mean squared Error\n",
    "    print(mean_squared_error(y_test,y_pred))\n",
    "    print(r2_score(y_test,y_pred))\n",
    "    print(mean_absolute_error(y_test,y_pred))\n",
    "    print('\\n')"
   ]
  },
  {
   "cell_type": "markdown",
   "metadata": {},
   "source": [
    "# Select the best model by using iris Dataset"
   ]
  },
  {
   "cell_type": "code",
   "execution_count": 31,
   "metadata": {},
   "outputs": [],
   "source": [
    "from sklearn.pipeline import Pipeline\n",
    "from sklearn.impute import SimpleImputer\n",
    "from sklearn.preprocessing import OneHotEncoder\n",
    "from sklearn.ensemble import RandomForestClassifier, GradientBoostingClassifier\n",
    "from xgboost import XGBClassifier\n",
    "from sklearn.metrics import accuracy_score\n",
    "from sklearn.model_selection import cross_val_score"
   ]
  },
  {
   "cell_type": "code",
   "execution_count": 26,
   "metadata": {},
   "outputs": [
    {
     "data": {
      "text/html": [
       "<div>\n",
       "<style scoped>\n",
       "    .dataframe tbody tr th:only-of-type {\n",
       "        vertical-align: middle;\n",
       "    }\n",
       "\n",
       "    .dataframe tbody tr th {\n",
       "        vertical-align: top;\n",
       "    }\n",
       "\n",
       "    .dataframe thead th {\n",
       "        text-align: right;\n",
       "    }\n",
       "</style>\n",
       "<table border=\"1\" class=\"dataframe\">\n",
       "  <thead>\n",
       "    <tr style=\"text-align: right;\">\n",
       "      <th></th>\n",
       "      <th>sepal_length</th>\n",
       "      <th>sepal_width</th>\n",
       "      <th>petal_length</th>\n",
       "      <th>petal_width</th>\n",
       "      <th>species</th>\n",
       "    </tr>\n",
       "  </thead>\n",
       "  <tbody>\n",
       "    <tr>\n",
       "      <th>0</th>\n",
       "      <td>5.1</td>\n",
       "      <td>3.5</td>\n",
       "      <td>1.4</td>\n",
       "      <td>0.2</td>\n",
       "      <td>setosa</td>\n",
       "    </tr>\n",
       "    <tr>\n",
       "      <th>1</th>\n",
       "      <td>4.9</td>\n",
       "      <td>3.0</td>\n",
       "      <td>1.4</td>\n",
       "      <td>0.2</td>\n",
       "      <td>setosa</td>\n",
       "    </tr>\n",
       "    <tr>\n",
       "      <th>2</th>\n",
       "      <td>4.7</td>\n",
       "      <td>3.2</td>\n",
       "      <td>1.3</td>\n",
       "      <td>0.2</td>\n",
       "      <td>setosa</td>\n",
       "    </tr>\n",
       "    <tr>\n",
       "      <th>3</th>\n",
       "      <td>4.6</td>\n",
       "      <td>3.1</td>\n",
       "      <td>1.5</td>\n",
       "      <td>0.2</td>\n",
       "      <td>setosa</td>\n",
       "    </tr>\n",
       "    <tr>\n",
       "      <th>4</th>\n",
       "      <td>5.0</td>\n",
       "      <td>3.6</td>\n",
       "      <td>1.4</td>\n",
       "      <td>0.2</td>\n",
       "      <td>setosa</td>\n",
       "    </tr>\n",
       "  </tbody>\n",
       "</table>\n",
       "</div>"
      ],
      "text/plain": [
       "   sepal_length  sepal_width  petal_length  petal_width species\n",
       "0           5.1          3.5           1.4          0.2  setosa\n",
       "1           4.9          3.0           1.4          0.2  setosa\n",
       "2           4.7          3.2           1.3          0.2  setosa\n",
       "3           4.6          3.1           1.5          0.2  setosa\n",
       "4           5.0          3.6           1.4          0.2  setosa"
      ]
     },
     "execution_count": 26,
     "metadata": {},
     "output_type": "execute_result"
    }
   ],
   "source": [
    "iris = sns.load_dataset('iris')\n",
    "iris.head()"
   ]
  },
  {
   "cell_type": "code",
   "execution_count": 28,
   "metadata": {},
   "outputs": [],
   "source": [
    "# Split data into x and y then encode y variable \n",
    "x=iris.drop('species',axis=1)\n",
    "y=iris['species']\n",
    "le=LabelEncoder()\n",
    "y=le.fit_transform(y)"
   ]
  },
  {
   "cell_type": "code",
   "execution_count": 29,
   "metadata": {},
   "outputs": [],
   "source": [
    "# Split data into train and test pieces\n",
    "X_train,X_test,y_train,y_test=train_test_split(x,y,test_size=0.2,random_state=42)"
   ]
  },
  {
   "cell_type": "code",
   "execution_count": 32,
   "metadata": {},
   "outputs": [
    {
     "name": "stdout",
     "output_type": "stream",
     "text": [
      "Model: Random Forest\n",
      "Cross-validation Accuracy: 0.9416666666666667\n",
      "Test Accuracy: 1.0\n",
      "\n",
      "Model: Gradient Boosting\n",
      "Cross-validation Accuracy: 0.9416666666666668\n",
      "Test Accuracy: 1.0\n",
      "\n",
      "Model: XGBoost\n",
      "Cross-validation Accuracy: 0.9333333333333333\n",
      "Test Accuracy: 1.0\n",
      "\n",
      "Best Model: RandomForestClassifier(random_state=42)\n"
     ]
    }
   ],
   "source": [
    "\n",
    "models = [\n",
    "    ('Random Forest', RandomForestClassifier(random_state=42)),\n",
    "    ('Gradient Boosting', GradientBoostingClassifier(random_state=42)),\n",
    "    ('XGBoost', XGBClassifier(random_state=42))\n",
    "]\n",
    "best_model = None\n",
    "best_accuracy = 0.0\n",
    "\n",
    "for name, model in models:\n",
    "    # Create a pipeline for each model\n",
    "    #pipeline = Pipeline([\n",
    "     #   ('imputer', SimpleImputer(strategy='most_frequent')),\n",
    "      #  ('encoder', OneHotEncoder(handle_unknown='ignore')),\n",
    "       # ('model', model)\n",
    "    #])\n",
    "    # Perform cross-validation\n",
    "    scores = cross_val_score(model, X_train, y_train, cv=5)\n",
    "    \n",
    "    # Calculate mean accuracy\n",
    "    mean_accuracy = scores.mean()\n",
    "    \n",
    "    # Fit the pipeline on the training data\n",
    "    model.fit(X_train, y_train)\n",
    "    \n",
    "    # Make predictions on the test data\n",
    "    y_pred = model.predict(X_test)\n",
    "\n",
    "    # Calculate accuracy score\n",
    "    accuracy = accuracy_score(y_test, y_pred)\n",
    "    \n",
    "    # Print the performance metrics\n",
    "    print(\"Model:\", name)\n",
    "    print(\"Cross-validation Accuracy:\", mean_accuracy)\n",
    "    print(\"Test Accuracy:\", accuracy)\n",
    "    print()\n",
    "    \n",
    "    # Check if the current model has the best accuracy\n",
    "    if accuracy > best_accuracy:\n",
    "        best_accuracy = accuracy\n",
    "        best_model = model\n",
    "\n",
    "# Retrieve the best model\n",
    "print(\"Best Model:\", best_model)"
   ]
  }
 ],
 "metadata": {
  "kernelspec": {
   "display_name": "python_ml",
   "language": "python",
   "name": "python3"
  },
  "language_info": {
   "codemirror_mode": {
    "name": "ipython",
    "version": 3
   },
   "file_extension": ".py",
   "mimetype": "text/x-python",
   "name": "python",
   "nbconvert_exporter": "python",
   "pygments_lexer": "ipython3",
   "version": "3.11.5"
  }
 },
 "nbformat": 4,
 "nbformat_minor": 2
}
